{
  "nbformat": 4,
  "nbformat_minor": 0,
  "metadata": {
    "colab": {
      "provenance": [],
      "gpuType": "T4"
    },
    "kernelspec": {
      "name": "python3",
      "display_name": "Python 3"
    },
    "language_info": {
      "name": "python"
    },
    "accelerator": "GPU"
  },
  "cells": [
    {
      "cell_type": "code",
      "source": [
        "from google.colab import drive\n",
        "drive.mount('/content/drive', force_remount=True)"
      ],
      "metadata": {
        "colab": {
          "base_uri": "https://localhost:8080/"
        },
        "id": "aeaIoqy6JKUy",
        "outputId": "fd4c7195-29b0-4723-caeb-b9d99e972487"
      },
      "execution_count": 44,
      "outputs": [
        {
          "output_type": "stream",
          "name": "stdout",
          "text": [
            "Mounted at /content/drive\n"
          ]
        }
      ]
    },
    {
      "cell_type": "code",
      "source": [
        "import numpy as np\n",
        "import random\n",
        "import tensorflow as tf\n",
        "from tensorflow.keras import Sequential\n",
        "from sklearn.model_selection import train_test_split\n",
        "from sklearn.preprocessing import LabelEncoder\n",
        "from tensorflow.keras.preprocessing.image import load_img, img_to_array\n",
        "from tensorflow.keras.layers import Dense, Dropout, Flatten, Conv2D, MaxPooling2D\n",
        "from tensorflow.keras.utils import to_categorical\n",
        "from tensorflow.keras.losses import SparseCategoricalCrossentropy\n",
        "import os\n",
        "import seaborn as sns\n",
        "import matplotlib.pyplot as plt\n",
        "%matplotlib inline"
      ],
      "metadata": {
        "id": "L4ipq0F_UUTy"
      },
      "execution_count": 30,
      "outputs": []
    },
    {
      "cell_type": "code",
      "source": [
        "train_folder = '/content/drive/MyDrive/melanoma/Train'\n",
        "\n",
        "# Initialize lists to store images and corresponding labels\n",
        "images = []\n",
        "labels = []\n",
        "\n",
        "# List subfolders (class names)\n",
        "class_names = sorted(os.listdir(train_folder))\n",
        "\n",
        "# Assign a unique integer label to each class\n",
        "class_to_label = {class_name: label for label, class_name in enumerate(class_names)}\n",
        "\n",
        "# Iterate through each subfolder and read images and labels\n",
        "for class_name in class_names:\n",
        "    class_folder = os.path.join(train_folder, class_name)\n",
        "    for image_name in os.listdir(class_folder):\n",
        "        image_path = os.path.join(class_folder, image_name)\n",
        "        image = load_img(image_path, target_size=(180, 180))  # Adjust target_size as needed\n",
        "        image_array = img_to_array(image)\n",
        "        images.append(image_array)\n",
        "        labels.append(class_to_label[class_name])\n",
        "\n",
        "# Convert lists to numpy arrays\n",
        "X = np.array(images)\n",
        "y = np.array(labels)\n",
        "\n",
        "# Perform one-hot encoding on labels\n",
        "y_encoded = to_categorical(y, num_classes=len(class_names))\n",
        "\n",
        "# Perform train-test split\n",
        "X_train, X_val, y_train, y_val = train_test_split(X, y_encoded, test_size=0.2, random_state=42)"
      ],
      "metadata": {
        "id": "q4w-l40tUifq"
      },
      "execution_count": 14,
      "outputs": []
    },
    {
      "cell_type": "code",
      "source": [
        "print(X_train.shape)\n",
        "print(X_val.shape)\n",
        "print(y_train.shape)\n",
        "print(y_val.shape)\n",
        "\n",
        "print(y_encoded.shape, y.shape)\n",
        "print(y)\n",
        "print(y_encoded)"
      ],
      "metadata": {
        "colab": {
          "base_uri": "https://localhost:8080/"
        },
        "id": "98aADMA9hEbg",
        "outputId": "c53087c3-00b3-46b6-a3a6-e840fab8cbcd"
      },
      "execution_count": 15,
      "outputs": [
        {
          "output_type": "stream",
          "name": "stdout",
          "text": [
            "(1791, 180, 180, 3)\n",
            "(448, 180, 180, 3)\n",
            "(1791, 9)\n",
            "(448, 9)\n",
            "(2239, 9) (2239,)\n",
            "[0 0 0 ... 8 8 8]\n",
            "[[1. 0. 0. ... 0. 0. 0.]\n",
            " [1. 0. 0. ... 0. 0. 0.]\n",
            " [1. 0. 0. ... 0. 0. 0.]\n",
            " ...\n",
            " [0. 0. 0. ... 0. 0. 1.]\n",
            " [0. 0. 0. ... 0. 0. 1.]\n",
            " [0. 0. 0. ... 0. 0. 1.]]\n"
          ]
        }
      ]
    },
    {
      "cell_type": "code",
      "source": [
        "# convert int to float\n",
        "X_train = X_train.astype('float32')\n",
        "X_val = X_val.astype('float32')\n",
        "\n",
        "# normalise\n",
        "X_train /= 255.0\n",
        "X_val /= 255.0"
      ],
      "metadata": {
        "id": "vrA2VkT6v3-y"
      },
      "execution_count": 16,
      "outputs": []
    },
    {
      "cell_type": "markdown",
      "source": [
        "### Model 1"
      ],
      "metadata": {
        "id": "iG_-Ntx490jd"
      }
    },
    {
      "cell_type": "code",
      "source": [
        "model = Sequential()\n",
        "\n",
        "model.add(Conv2D(32, kernel_size=(3,3), activation=\"relu\", input_shape=(180,180,3)))\n",
        "model.add(MaxPooling2D())\n",
        "\n",
        "model.add(Conv2D(64, 3,padding=\"same\",activation='relu'))\n",
        "model.add(MaxPooling2D())\n",
        "\n",
        "model.add(Conv2D(128, 3,padding=\"same\",activation='relu'))\n",
        "model.add(MaxPooling2D())\n",
        "\n",
        "model.add(Conv2D(256, 3,padding=\"same\",activation='relu'))\n",
        "model.add(MaxPooling2D())\n",
        "\n",
        "model.add(Conv2D(512, 3,padding=\"same\",activation='relu'))\n",
        "model.add(MaxPooling2D())\n",
        "\n",
        "model.add(Flatten())\n",
        "model.add(Dense(1024,activation=\"relu\"))\n",
        "model.add(Dense(9,activation=\"softmax\"))"
      ],
      "metadata": {
        "id": "XuHCW7mjzQY7"
      },
      "execution_count": 17,
      "outputs": []
    },
    {
      "cell_type": "code",
      "source": [
        "model.summary()"
      ],
      "metadata": {
        "colab": {
          "base_uri": "https://localhost:8080/"
        },
        "id": "4suh2Ch01pur",
        "outputId": "66ca4d6b-6a2f-4777-ac00-014dd85a6c3f"
      },
      "execution_count": 18,
      "outputs": [
        {
          "output_type": "stream",
          "name": "stdout",
          "text": [
            "Model: \"sequential_1\"\n",
            "_________________________________________________________________\n",
            " Layer (type)                Output Shape              Param #   \n",
            "=================================================================\n",
            " conv2d_5 (Conv2D)           (None, 178, 178, 32)      896       \n",
            "                                                                 \n",
            " max_pooling2d_5 (MaxPoolin  (None, 89, 89, 32)        0         \n",
            " g2D)                                                            \n",
            "                                                                 \n",
            " conv2d_6 (Conv2D)           (None, 89, 89, 64)        18496     \n",
            "                                                                 \n",
            " max_pooling2d_6 (MaxPoolin  (None, 44, 44, 64)        0         \n",
            " g2D)                                                            \n",
            "                                                                 \n",
            " conv2d_7 (Conv2D)           (None, 44, 44, 128)       73856     \n",
            "                                                                 \n",
            " max_pooling2d_7 (MaxPoolin  (None, 22, 22, 128)       0         \n",
            " g2D)                                                            \n",
            "                                                                 \n",
            " conv2d_8 (Conv2D)           (None, 22, 22, 256)       295168    \n",
            "                                                                 \n",
            " max_pooling2d_8 (MaxPoolin  (None, 11, 11, 256)       0         \n",
            " g2D)                                                            \n",
            "                                                                 \n",
            " conv2d_9 (Conv2D)           (None, 11, 11, 512)       1180160   \n",
            "                                                                 \n",
            " max_pooling2d_9 (MaxPoolin  (None, 5, 5, 512)         0         \n",
            " g2D)                                                            \n",
            "                                                                 \n",
            " flatten_1 (Flatten)         (None, 12800)             0         \n",
            "                                                                 \n",
            " dense_2 (Dense)             (None, 1024)              13108224  \n",
            "                                                                 \n",
            " dense_3 (Dense)             (None, 9)                 9225      \n",
            "                                                                 \n",
            "=================================================================\n",
            "Total params: 14686025 (56.02 MB)\n",
            "Trainable params: 14686025 (56.02 MB)\n",
            "Non-trainable params: 0 (0.00 Byte)\n",
            "_________________________________________________________________\n"
          ]
        }
      ]
    },
    {
      "cell_type": "code",
      "source": [
        "batch_size = 32\n",
        "epochs = 20"
      ],
      "metadata": {
        "id": "lWnrhGDc1vD2"
      },
      "execution_count": 19,
      "outputs": []
    },
    {
      "cell_type": "code",
      "source": [
        "model.compile(loss=tf.keras.losses.categorical_crossentropy,\n",
        "              optimizer=tf.keras.optimizers.Adam(),\n",
        "              metrics=['accuracy'])"
      ],
      "metadata": {
        "id": "Tui8fHT017PN"
      },
      "execution_count": 20,
      "outputs": []
    },
    {
      "cell_type": "code",
      "source": [
        "model.fit(X_train, y_train,\n",
        "          batch_size=batch_size,\n",
        "          epochs=epochs,\n",
        "          verbose=1,\n",
        "          validation_data=(X_val, y_val))"
      ],
      "metadata": {
        "colab": {
          "base_uri": "https://localhost:8080/"
        },
        "id": "8VpbT0Qw2GEI",
        "outputId": "d01ce67d-79a7-4590-c910-9010a9797bdd"
      },
      "execution_count": 21,
      "outputs": [
        {
          "output_type": "stream",
          "name": "stdout",
          "text": [
            "Epoch 1/20\n",
            "56/56 [==============================] - 6s 63ms/step - loss: 2.0610 - accuracy: 0.2083 - val_loss: 2.0510 - val_accuracy: 0.1741\n",
            "Epoch 2/20\n",
            "56/56 [==============================] - 3s 45ms/step - loss: 2.0376 - accuracy: 0.1898 - val_loss: 2.0025 - val_accuracy: 0.2143\n",
            "Epoch 3/20\n",
            "56/56 [==============================] - 3s 46ms/step - loss: 1.9977 - accuracy: 0.2312 - val_loss: 1.8904 - val_accuracy: 0.3013\n",
            "Epoch 4/20\n",
            "56/56 [==============================] - 3s 48ms/step - loss: 1.8807 - accuracy: 0.2937 - val_loss: 1.8128 - val_accuracy: 0.3237\n",
            "Epoch 5/20\n",
            "56/56 [==============================] - 3s 46ms/step - loss: 1.7458 - accuracy: 0.3367 - val_loss: 1.6576 - val_accuracy: 0.4174\n",
            "Epoch 6/20\n",
            "56/56 [==============================] - 3s 49ms/step - loss: 1.6207 - accuracy: 0.4109 - val_loss: 1.6990 - val_accuracy: 0.4330\n",
            "Epoch 7/20\n",
            "56/56 [==============================] - 3s 49ms/step - loss: 1.4927 - accuracy: 0.4791 - val_loss: 1.4773 - val_accuracy: 0.4911\n",
            "Epoch 8/20\n",
            "56/56 [==============================] - 2s 44ms/step - loss: 1.4358 - accuracy: 0.4925 - val_loss: 1.4108 - val_accuracy: 0.5223\n",
            "Epoch 9/20\n",
            "56/56 [==============================] - 3s 46ms/step - loss: 1.4280 - accuracy: 0.4992 - val_loss: 1.4091 - val_accuracy: 0.5134\n",
            "Epoch 10/20\n",
            "56/56 [==============================] - 3s 46ms/step - loss: 1.3210 - accuracy: 0.5304 - val_loss: 1.3865 - val_accuracy: 0.5134\n",
            "Epoch 11/20\n",
            "56/56 [==============================] - 3s 47ms/step - loss: 1.2699 - accuracy: 0.5461 - val_loss: 1.4152 - val_accuracy: 0.5179\n",
            "Epoch 12/20\n",
            "56/56 [==============================] - 3s 49ms/step - loss: 1.2158 - accuracy: 0.5617 - val_loss: 1.4984 - val_accuracy: 0.4844\n",
            "Epoch 13/20\n",
            "56/56 [==============================] - 2s 44ms/step - loss: 1.1929 - accuracy: 0.5617 - val_loss: 1.6565 - val_accuracy: 0.4129\n",
            "Epoch 14/20\n",
            "56/56 [==============================] - 3s 46ms/step - loss: 1.1573 - accuracy: 0.5824 - val_loss: 1.5073 - val_accuracy: 0.5134\n",
            "Epoch 15/20\n",
            "56/56 [==============================] - 2s 44ms/step - loss: 1.2258 - accuracy: 0.5567 - val_loss: 1.4038 - val_accuracy: 0.5112\n",
            "Epoch 16/20\n",
            "56/56 [==============================] - 3s 47ms/step - loss: 1.0530 - accuracy: 0.6175 - val_loss: 1.5152 - val_accuracy: 0.5067\n",
            "Epoch 17/20\n",
            "56/56 [==============================] - 3s 49ms/step - loss: 1.0236 - accuracy: 0.6237 - val_loss: 1.4368 - val_accuracy: 0.5491\n",
            "Epoch 18/20\n",
            "56/56 [==============================] - 3s 47ms/step - loss: 0.9136 - accuracy: 0.6583 - val_loss: 1.6118 - val_accuracy: 0.5089\n",
            "Epoch 19/20\n",
            "56/56 [==============================] - 2s 44ms/step - loss: 0.9435 - accuracy: 0.6494 - val_loss: 1.6321 - val_accuracy: 0.5290\n",
            "Epoch 20/20\n",
            "56/56 [==============================] - 3s 46ms/step - loss: 0.8105 - accuracy: 0.6951 - val_loss: 1.8001 - val_accuracy: 0.5067\n"
          ]
        },
        {
          "output_type": "execute_result",
          "data": {
            "text/plain": [
              "<keras.src.callbacks.History at 0x7f1a56195750>"
            ]
          },
          "metadata": {},
          "execution_count": 21
        }
      ]
    },
    {
      "cell_type": "markdown",
      "source": [
        "### Findings\n",
        "\n",
        "# the model is overfitting, you can compare the train and validation loss, the training loss is low and validation loss is high,\n",
        "# you can also check the train and validation accuracies, the training loss is high, and validation loss is low"
      ],
      "metadata": {
        "id": "whrRjWB_DOqr"
      }
    },
    {
      "cell_type": "markdown",
      "source": [
        "### Model 2: Data Augmentation"
      ],
      "metadata": {
        "id": "LxWgLrQn93u7"
      }
    },
    {
      "cell_type": "code",
      "source": [
        "data_augmentation = Sequential(\n",
        "  [\n",
        "    tf.keras.layers.experimental.preprocessing.RandomFlip(\"horizontal_and_vertical\",\n",
        "                                                 input_shape=(180,\n",
        "                                                              180,\n",
        "                                                              3)),\n",
        "    tf.keras.layers.experimental.preprocessing.RandomRotation(0.2),\n",
        "    tf.keras.layers.experimental.preprocessing.RandomZoom(0.2),\n",
        "  ]\n",
        ")"
      ],
      "metadata": {
        "id": "cK-MfXJa74l0"
      },
      "execution_count": 25,
      "outputs": []
    },
    {
      "cell_type": "code",
      "source": [
        "num_classes = 9\n",
        "model = Sequential(data_augmentation)\n",
        "\n",
        "model.add(Conv2D(32, kernel_size=(3,3), activation=\"relu\", input_shape=(180,180,3)))\n",
        "model.add(MaxPooling2D())\n",
        "\n",
        "model.add(Conv2D(64, 3,padding=\"same\",activation='relu'))\n",
        "model.add(MaxPooling2D())\n",
        "\n",
        "model.add(Conv2D(128, 3,padding=\"same\",activation='relu'))\n",
        "model.add(MaxPooling2D())\n",
        "\n",
        "model.add(Conv2D(256, 3,padding=\"same\",activation='relu'))\n",
        "model.add(MaxPooling2D())\n",
        "\n",
        "model.add(Conv2D(512, 3,padding=\"same\",activation='relu'))\n",
        "model.add(MaxPooling2D())\n",
        "\n",
        "model.add(Flatten())\n",
        "model.add(Dense(1024,activation=\"relu\"))\n",
        "model.add(Dense(9,activation=\"softmax\"))"
      ],
      "metadata": {
        "id": "U62dzvG4-9UT"
      },
      "execution_count": 26,
      "outputs": []
    },
    {
      "cell_type": "code",
      "source": [
        "model.summary()"
      ],
      "metadata": {
        "colab": {
          "base_uri": "https://localhost:8080/"
        },
        "id": "1TAFxe4h_DUm",
        "outputId": "f200becb-4ada-444d-e651-9f52a76be960"
      },
      "execution_count": 27,
      "outputs": [
        {
          "output_type": "stream",
          "name": "stdout",
          "text": [
            "Model: \"sequential_3\"\n",
            "_________________________________________________________________\n",
            " Layer (type)                Output Shape              Param #   \n",
            "=================================================================\n",
            " sequential_2 (Sequential)   (None, 180, 180, 3)       0         \n",
            "                                                                 \n",
            " conv2d_10 (Conv2D)          (None, 178, 178, 32)      896       \n",
            "                                                                 \n",
            " max_pooling2d_10 (MaxPooli  (None, 89, 89, 32)        0         \n",
            " ng2D)                                                           \n",
            "                                                                 \n",
            " conv2d_11 (Conv2D)          (None, 89, 89, 64)        18496     \n",
            "                                                                 \n",
            " max_pooling2d_11 (MaxPooli  (None, 44, 44, 64)        0         \n",
            " ng2D)                                                           \n",
            "                                                                 \n",
            " conv2d_12 (Conv2D)          (None, 44, 44, 128)       73856     \n",
            "                                                                 \n",
            " max_pooling2d_12 (MaxPooli  (None, 22, 22, 128)       0         \n",
            " ng2D)                                                           \n",
            "                                                                 \n",
            " conv2d_13 (Conv2D)          (None, 22, 22, 256)       295168    \n",
            "                                                                 \n",
            " max_pooling2d_13 (MaxPooli  (None, 11, 11, 256)       0         \n",
            " ng2D)                                                           \n",
            "                                                                 \n",
            " conv2d_14 (Conv2D)          (None, 11, 11, 512)       1180160   \n",
            "                                                                 \n",
            " max_pooling2d_14 (MaxPooli  (None, 5, 5, 512)         0         \n",
            " ng2D)                                                           \n",
            "                                                                 \n",
            " flatten_2 (Flatten)         (None, 12800)             0         \n",
            "                                                                 \n",
            " dense_4 (Dense)             (None, 1024)              13108224  \n",
            "                                                                 \n",
            " dense_5 (Dense)             (None, 9)                 9225      \n",
            "                                                                 \n",
            "=================================================================\n",
            "Total params: 14686025 (56.02 MB)\n",
            "Trainable params: 14686025 (56.02 MB)\n",
            "Non-trainable params: 0 (0.00 Byte)\n",
            "_________________________________________________________________\n"
          ]
        }
      ]
    },
    {
      "cell_type": "code",
      "source": [
        "model.compile(loss=tf.keras.losses.categorical_crossentropy,\n",
        "              optimizer=tf.keras.optimizers.Adam(),\n",
        "              metrics=['accuracy'])"
      ],
      "metadata": {
        "id": "s0eODXLG_JG0"
      },
      "execution_count": 28,
      "outputs": []
    },
    {
      "cell_type": "code",
      "source": [
        "model.fit(X_train, y_train,\n",
        "          batch_size=batch_size,\n",
        "          epochs=epochs,\n",
        "          verbose=1,\n",
        "          validation_data=(X_val, y_val))"
      ],
      "metadata": {
        "colab": {
          "base_uri": "https://localhost:8080/"
        },
        "id": "85cmy-cq_LW7",
        "outputId": "54548915-c065-48c3-c1a8-6039ad37a49b"
      },
      "execution_count": 29,
      "outputs": [
        {
          "output_type": "stream",
          "name": "stdout",
          "text": [
            "Epoch 1/20\n",
            "56/56 [==============================] - 6s 58ms/step - loss: 2.0664 - accuracy: 0.2004 - val_loss: 2.0096 - val_accuracy: 0.2143\n",
            "Epoch 2/20\n",
            "56/56 [==============================] - 3s 48ms/step - loss: 2.0019 - accuracy: 0.2306 - val_loss: 1.8689 - val_accuracy: 0.3192\n",
            "Epoch 3/20\n",
            "56/56 [==============================] - 3s 52ms/step - loss: 1.8055 - accuracy: 0.3143 - val_loss: 1.6798 - val_accuracy: 0.3571\n",
            "Epoch 4/20\n",
            "56/56 [==============================] - 3s 51ms/step - loss: 1.7314 - accuracy: 0.3495 - val_loss: 1.5900 - val_accuracy: 0.3996\n",
            "Epoch 5/20\n",
            "56/56 [==============================] - 3s 48ms/step - loss: 1.6249 - accuracy: 0.4087 - val_loss: 1.8702 - val_accuracy: 0.3594\n",
            "Epoch 6/20\n",
            "56/56 [==============================] - 3s 48ms/step - loss: 1.6011 - accuracy: 0.4310 - val_loss: 1.5462 - val_accuracy: 0.4464\n",
            "Epoch 7/20\n",
            "56/56 [==============================] - 3s 48ms/step - loss: 1.4943 - accuracy: 0.4679 - val_loss: 1.4673 - val_accuracy: 0.4777\n",
            "Epoch 8/20\n",
            "56/56 [==============================] - 3s 51ms/step - loss: 1.4803 - accuracy: 0.4718 - val_loss: 1.4500 - val_accuracy: 0.5067\n",
            "Epoch 9/20\n",
            "56/56 [==============================] - 3s 49ms/step - loss: 1.4239 - accuracy: 0.4992 - val_loss: 1.4128 - val_accuracy: 0.5112\n",
            "Epoch 10/20\n",
            "56/56 [==============================] - 3s 49ms/step - loss: 1.3961 - accuracy: 0.4936 - val_loss: 1.3460 - val_accuracy: 0.5402\n",
            "Epoch 11/20\n",
            "56/56 [==============================] - 3s 54ms/step - loss: 1.4520 - accuracy: 0.4774 - val_loss: 1.5546 - val_accuracy: 0.4286\n",
            "Epoch 12/20\n",
            "56/56 [==============================] - 3s 50ms/step - loss: 1.4502 - accuracy: 0.4846 - val_loss: 1.5819 - val_accuracy: 0.4777\n",
            "Epoch 13/20\n",
            "56/56 [==============================] - 3s 62ms/step - loss: 1.3448 - accuracy: 0.5170 - val_loss: 1.3647 - val_accuracy: 0.5134\n",
            "Epoch 14/20\n",
            "56/56 [==============================] - 3s 51ms/step - loss: 1.3648 - accuracy: 0.5148 - val_loss: 1.3383 - val_accuracy: 0.5089\n",
            "Epoch 15/20\n",
            "56/56 [==============================] - 3s 46ms/step - loss: 1.3003 - accuracy: 0.5315 - val_loss: 1.3069 - val_accuracy: 0.5312\n",
            "Epoch 16/20\n",
            "56/56 [==============================] - 3s 49ms/step - loss: 1.2945 - accuracy: 0.5276 - val_loss: 1.3107 - val_accuracy: 0.5357\n",
            "Epoch 17/20\n",
            "56/56 [==============================] - 3s 46ms/step - loss: 1.2806 - accuracy: 0.5422 - val_loss: 1.5743 - val_accuracy: 0.4799\n",
            "Epoch 18/20\n",
            "56/56 [==============================] - 3s 51ms/step - loss: 1.3383 - accuracy: 0.5047 - val_loss: 1.3190 - val_accuracy: 0.5357\n",
            "Epoch 19/20\n",
            "56/56 [==============================] - 3s 50ms/step - loss: 1.2597 - accuracy: 0.5455 - val_loss: 1.4501 - val_accuracy: 0.5000\n",
            "Epoch 20/20\n",
            "56/56 [==============================] - 3s 47ms/step - loss: 1.3259 - accuracy: 0.5332 - val_loss: 1.2869 - val_accuracy: 0.5112\n"
          ]
        },
        {
          "output_type": "execute_result",
          "data": {
            "text/plain": [
              "<keras.src.callbacks.History at 0x7f1a5610a4a0>"
            ]
          },
          "metadata": {},
          "execution_count": 29
        }
      ]
    },
    {
      "cell_type": "markdown",
      "source": [
        "### Examine the class distribution"
      ],
      "metadata": {
        "id": "paO19droB88J"
      }
    },
    {
      "cell_type": "code",
      "source": [
        "\n",
        "# Calculate class distribution from y_train (one-hot encoded labels)\n",
        "class_distribution = np.sum(y_train, axis=0)\n",
        "print(class_distribution)\n",
        "\n",
        "# Get class names\n",
        "class_names = sorted(os.listdir(train_folder))\n",
        "\n",
        "# Plot class distribution\n",
        "plt.figure(figsize=(10, 6))\n",
        "plt.bar(class_names, class_distribution)\n",
        "plt.title('Class Distribution in Training Data')\n",
        "plt.xlabel('Class')\n",
        "plt.ylabel('Count')\n",
        "plt.xticks(rotation=45)  # Rotate x-axis labels for readability\n",
        "plt.show()\n"
      ],
      "metadata": {
        "colab": {
          "base_uri": "https://localhost:8080/",
          "height": 714
        },
        "id": "Bv5y0-VCCDYw",
        "outputId": "bd2a3c9c-37f8-4495-e93d-ff7e62938a90"
      },
      "execution_count": 33,
      "outputs": [
        {
          "output_type": "stream",
          "name": "stdout",
          "text": [
            "[ 94. 283.  75. 360. 288. 366.  59. 151. 115.]\n"
          ]
        },
        {
          "output_type": "display_data",
          "data": {
            "text/plain": [
              "<Figure size 1000x600 with 1 Axes>"
            ],
            "image/png": "[encoded data removed]"
          },
          "metadata": {}
        }
      ]
    },
    {
      "cell_type": "markdown",
      "source": [
        "### Findings: Data imbalance is present"
      ],
      "metadata": {
        "id": "OJIxjQvRDKSO"
      }
    }
  ]
}